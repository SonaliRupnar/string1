{
 "cells": [
  {
   "cell_type": "markdown",
   "id": "b5fabd6b",
   "metadata": {
    "id": "b5fabd6b"
   },
   "source": [
    "\n",
    "\n",
    "\n",
    "\n",
    "\n",
    "\n",
    "\n",
    "\n",
    "\n",
    "\n",
    "\n",
    "\n",
    "\n",
    "\n",
    "\n",
    "\n",
    "\n",
    "\n",
    "\n",
    "\n",
    "\n",
    "\n",
    "\n",
    "\n",
    "\n",
    "\n",
    "\n",
    "\n",
    "\n",
    "\n",
    "\n",
    "\n",
    "\n",
    "\n",
    "\n",
    "\n",
    "\n",
    "\n",
    "\n",
    "\n",
    "\n",
    "\n",
    "\n",
    "\n",
    "\n",
    "\n",
    "\n",
    "\n",
    "\n",
    "\n",
    "\n",
    "\n",
    "\n",
    "\n",
    "\n",
    "\n",
    "\n",
    "\n",
    "\n",
    "\n",
    "\n",
    "\n",
    "\n",
    "\n",
    "\n",
    "\n",
    "\n",
    "\n",
    "\n",
    "\n",
    "\n",
    "\n",
    "\n",
    "\n",
    "\n",
    "\n",
    "\n",
    "\n",
    "\n",
    "\n",
    "\n",
    "\n",
    "\n",
    "\n",
    "\n",
    "\n",
    "\n",
    "\n",
    "\n",
    "\n",
    "\n",
    "\n",
    "\n",
    "\n",
    "\n",
    "\n",
    "\n",
    "\n",
    "\n",
    "\n",
    "\n",
    "\n",
    "\n",
    "\n",
    "\n",
    "\n",
    "\n",
    "\n",
    "\n",
    "\n",
    "\n",
    "\n",
    "\n",
    "\n",
    "\n",
    "\n",
    "\n",
    "\n",
    "\n",
    "\n",
    "\n",
    "\n",
    "\n",
    "\n",
    "\n",
    "\n",
    "\n",
    "\n",
    "\n",
    "\n",
    "\n",
    "\n",
    "<a href=\"https://www.viharatech.com\"><img src=\"https://miro.medium.com/v2/resize:fit:828/format:webp/1*on2Bpj6A5gfd-CzaFOAZRA.jpeg\"></a>\n",
    "\n",
    "\n",
    "- `Welcome to our interactive learning session! In this Jupyter notebook, you'll find a series of questions related to Python Strings Functions Concept. To maximize your learning, please write Python code in the cell below each question and execute it. This hands-on practice will help reinforce your understanding of the concepts. Feel free to reach out if you have any questions or need assistance. Happy coding! 💻🐍 `"
   ]
  },
  {
   "cell_type": "code",
   "execution_count": null,
   "id": "np7oTndLQOuE",
   "metadata": {
    "id": "np7oTndLQOuE"
   },
   "outputs": [],
   "source": []
  },
  {
   "cell_type": "markdown",
   "id": "db689fc2",
   "metadata": {
    "id": "db689fc2"
   },
   "source": [
    "##Question** 1: Write a Python program to count the number of characters in a string.\n",
    "# Sample Input 1\n",
    "\n",
    "input_string1 =\n",
    "\n",
    "     \"Hello, World!\"\n",
    "output1 =\n",
    "\n",
    "     count_characters(input_string1)\n",
    "\n",
    "# Sample Input 2\n",
    "\n",
    "input_string2 =\n",
    "\n",
    "    \"Python is fun.\"\n",
    "output2 =\n",
    "\n",
    "       count_characters(input_string2)"
   ]
  },
  {
   "cell_type": "code",
   "execution_count": 5,
   "id": "c9ce9180",
   "metadata": {
    "id": "c9ce9180"
   },
   "outputs": [
    {
     "name": "stdout",
     "output_type": "stream",
     "text": [
      "Input string: hello sangli\n",
      "Number of characters: 12\n"
     ]
    }
   ],
   "source": [
    "# Please write The solution Here for above question 1:\n",
    "a = \"hello sangli\"\n",
    "print(\"Input string:\", a)\n",
    "b = len(a)\n",
    "print(\"Number of characters:\", b)"
   ]
  },
  {
   "cell_type": "markdown",
   "id": "46f069cc",
   "metadata": {
    "id": "46f069cc"
   },
   "source": [
    "Question 2: Write a Python program to reverse a string without using [::-1].\n",
    "\n",
    "\n",
    "\n",
    "\n",
    "\n",
    "1.   List item\n",
    "2.   List item\n",
    "\n",
    "\n",
    "\n",
    "# Sample Input 1\n",
    "\n",
    "\n",
    "\n",
    "input_string1 =\n",
    "\n",
    "      \"Hello, World!\"\n",
    "\n",
    "output1 =\n",
    "\n",
    "     count_characters(input_string1)\n",
    "\n",
    "# Sample Input 2\n",
    "\n",
    "input_string2 =\n",
    "\n",
    "    \"Python is fun.\"\n",
    "\n",
    "output2 =\n",
    "\n",
    "    count_characters(input_string2)\n"
   ]
  },
  {
   "cell_type": "code",
   "execution_count": 9,
   "id": "2cde3dcc",
   "metadata": {
    "id": "2cde3dcc"
   },
   "outputs": [
    {
     "name": "stdout",
     "output_type": "stream",
     "text": [
      "original string : viharatech\n",
      "reversed string : hcetarahiv\n",
      "original string : welcome sangli\n",
      "reversed string : ilgnas emoclew\n"
     ]
    }
   ],
   "source": [
    "# Please write The solution Here for above question 2:\n",
    "def reverse(s):\n",
    "    str = \"\"\n",
    "    for i in s:\n",
    "        str = i + str\n",
    "    return str\n",
    "s = \"viharatech\"\n",
    "print(\"original string : \", end=\"\")\n",
    "print(s)\n",
    "print(\"reversed string : \", end=\"\")\n",
    "print(reverse(s))\n",
    "\n",
    "\n",
    "\n",
    "def reverse(s):\n",
    "    str = \"\"\n",
    "    for i in s:\n",
    "        str = i + str\n",
    "    return str\n",
    "s = \"welcome sangli\"\n",
    "print(\"original string : \", end=\"\")\n",
    "print(s)\n",
    "print(\"reversed string : \", end=\"\")\n",
    "print(reverse(s))"
   ]
  },
  {
   "cell_type": "markdown",
   "id": "0f3a2ef5",
   "metadata": {
    "id": "0f3a2ef5"
   },
   "source": [
    "Question 3: Write a Python program to check if a string is a palindrome\n",
    "\n",
    "\n",
    "\n",
    "\n",
    "# Sample Input 1\n",
    "\n",
    "input_string1 =\n",
    "\n",
    "       \"racecar\"\n",
    "\n",
    "output1 =\n",
    "\n",
    "    is_palindrome(input_string1)\n",
    "\n",
    "# Sample Input 2\n",
    "\n",
    "input_string2 =\n",
    "\n",
    "    \"Hello, World!\"\n",
    "\n",
    "output2 =\n",
    "\n",
    "    is_palindrome(input_string2)"
   ]
  },
  {
   "cell_type": "code",
   "execution_count": 21,
   "id": "15117c85-7c0a-4a00-8982-20ac70d8e391",
   "metadata": {},
   "outputs": [
    {
     "name": "stdout",
     "output_type": "stream",
     "text": [
      "The string is a palindrome.\n"
     ]
    }
   ],
   "source": [
    "# Program to check if a string is palindrome or not\n",
    "\n",
    "a = 'racecar'\n",
    "b = reversed(a)\n",
    "if list(a) == list(b):\n",
    " print(\"The string is a palindrome.\")\n",
    "else:\n",
    "    print(\"The string is not a palindrome.\")"
   ]
  },
  {
   "cell_type": "markdown",
   "id": "98e0fc60",
   "metadata": {
    "id": "98e0fc60"
   },
   "source": [
    "Question 4: Write a Python program to find the most common character in a string.\n",
    "\n",
    "\n",
    "\n",
    "\n",
    "\n",
    "\n",
    "# Sample Input 1\n",
    "\n",
    "input_string1 =\n",
    "\n",
    "    \"hello world\"\n",
    "\n",
    "output1 =\n",
    "\n",
    "    most_common_character(input_string1)\n",
    "\n",
    "# Sample Input 2\n",
    "\n",
    "input_string2 =\n",
    "\n",
    "    \"python programming\"\n",
    "\n",
    "output2 =\n",
    "\n",
    "    most_common_character(input_string2)\n"
   ]
  },
  {
   "cell_type": "code",
   "execution_count": 5,
   "id": "eZizSyQFhm3_",
   "metadata": {
    "id": "eZizSyQFhm3_"
   },
   "outputs": [
    {
     "name": "stdin",
     "output_type": "stream",
     "text": [
      "Enter the string :  welcome to viharatech\n"
     ]
    },
    {
     "name": "stdout",
     "output_type": "stream",
     "text": [
      "e is the maximum frequency character with frequency of  3\n"
     ]
    }
   ],
   "source": [
    "# Please write The solution Here for above question 4:\n",
    "\n",
    "myStr =  input('Enter the string : ')\n",
    "\n",
    "\n",
    "freq = {}\n",
    "for i in myStr:\n",
    "    if i in freq:\n",
    "        freq[i] += 1\n",
    "    else:\n",
    "        freq[i] = 1\n",
    "a = max(freq, key = freq.get)\n",
    "print(a , \"is the maximum frequency character with frequency of \" , freq[a])\n",
    "\n"
   ]
  },
  {
   "cell_type": "markdown",
   "id": "17eb44eb",
   "metadata": {
    "id": "17eb44eb"
   },
   "source": [
    "Question 5: Write a Python program to check if two strings are anagrams.\n",
    "\n",
    "\n",
    "\n",
    "\n",
    "# Sample Input 1\n",
    "\n",
    "input_str1_1 =\n",
    "\n",
    "     \"listen\"\n",
    "\n",
    "input_str1_2 =\n",
    "\n",
    "    \"silent\"\n",
    "\n",
    "output1 =\n",
    "\n",
    "    are_anagrams(input_str1_1, input_str1_2)\n",
    "\n",
    "# Sample Input 2\n",
    "\n",
    "input_str2_1 =\n",
    "\n",
    "    \"hello\"\n",
    "\n",
    "input_str2_2 =\n",
    "\n",
    "    \"world\"\n",
    "\n",
    "output2 =\n",
    "\n",
    "    are_anagrams(input_str2_1, input_str2_2)\n"
   ]
  },
  {
   "cell_type": "code",
   "execution_count": 29,
   "id": "29f0e87e",
   "metadata": {
    "id": "29f0e87e"
   },
   "outputs": [
    {
     "name": "stdout",
     "output_type": "stream",
     "text": [
      "Strings are anagram\n"
     ]
    }
   ],
   "source": [
    "# Please write The solution Here for above question 5:\n",
    "\n",
    "String1 = \"listen\"\n",
    "String2 = \"silent\"\n",
    "\n",
    "String1 = sorted(String1.lower())\n",
    "String2 = sorted(String2.lower())\n",
    "\n",
    "if String1 == String2:\n",
    "    print('Strings are anagram')\n",
    "else:\n",
    "    print('Strings are not anagram')\n",
    "\n",
    "\n",
    "\n",
    "\n"
   ]
  },
  {
   "cell_type": "markdown",
   "id": "fac17884",
   "metadata": {
    "id": "fac17884"
   },
   "source": [
    "Question 6: Write a Python program to remove all the vowels from a string.\n",
    "\n",
    "\n",
    "> Indented block\n",
    "\n",
    "> Indented block\n",
    "\n",
    "> Indented block\n",
    "\n",
    "\n",
    "\n",
    "\n",
    "\n",
    "\n",
    "\n",
    "\n",
    "\n",
    "\n",
    "# Sample Input\n",
    "\n",
    "input_string1 =\n",
    "\n",
    "    \"Hello, World!\"\n",
    "\n",
    "# Sample Output\n",
    "\n",
    "output1 =\n",
    "\n",
    "     remove_vowels(input_string1)\n",
    "\n",
    "\n",
    "# Sample Input\n",
    "\n",
    "input_string2 =\n",
    "\n",
    "     \"Python is great\"\n",
    "\n",
    "# Sample Output\n",
    "\n",
    "output2 =\n",
    "\n",
    "remove_vowels(input_string2)"
   ]
  },
  {
   "cell_type": "code",
   "execution_count": 36,
   "id": "446869da-eab3-473a-a514-13c94fb52290",
   "metadata": {},
   "outputs": [
    {
     "name": "stdout",
     "output_type": "stream",
     "text": [
      "\n",
      "After removing Vowels:  wlcm t clss\n"
     ]
    }
   ],
   "source": [
    "string = \"welcome to class\"\n",
    "\n",
    "vowels = ['a', 'e', 'i', 'o', 'u', 'A', 'E', 'I', 'O', 'U']\n",
    "result =\"\"\n",
    "for i in range(len(string)):\n",
    "    if string[i] not in vowels:\n",
    "        result = result + string[i]\n",
    "\n",
    "print(\"\\nAfter removing Vowels: \", result)"
   ]
  },
  {
   "cell_type": "markdown",
   "id": "2170d6f4",
   "metadata": {
    "id": "2170d6f4"
   },
   "source": [
    "Question 7: Write a Python program to find the longest word in a string.\n",
    "\n",
    "\n",
    "# Sample Input1\n",
    "\n",
    "input_string1 =\n",
    "\n",
    "    \"The quick brown fox\"\n",
    "\n",
    "# Sample Output\n",
    "\n",
    "output1 =\n",
    "\n",
    "    find_longest_word(input_string1)\n",
    "\n",
    "\n",
    "# Sample Input2\n",
    "\n",
    "input_string2 =\n",
    "\n",
    "    \"Python programming is fun\"\n",
    "\n",
    "# Sample Output\n",
    "\n",
    "output2 =\n",
    "\n",
    "     find_longest_word(input_string2)\n"
   ]
  },
  {
   "cell_type": "code",
   "execution_count": 53,
   "id": "f35de8b3",
   "metadata": {
    "id": "f35de8b3"
   },
   "outputs": [
    {
     "name": "stdin",
     "output_type": "stream",
     "text": [
      "Enter a string:  welcome to sangli\n"
     ]
    },
    {
     "name": "stdout",
     "output_type": "stream",
     "text": [
      "The longest word is 'welcome' \n"
     ]
    }
   ],
   "source": [
    "# Please write The solution Here for above question 7:\n",
    "\n",
    "def find_longest_word(text):\n",
    "   \n",
    "    words = text.split()\n",
    "\n",
    "\n",
    "    longest_word = max(words, key=len)\n",
    "\n",
    "    return longest_word\n",
    "\n",
    "\n",
    "text_input = input(\"Enter a string: \")\n",
    "\n",
    "\n",
    "longest = find_longest_word(text_input)\n",
    "\n",
    "\n",
    "print(f\"The longest word is '{longest}' \")"
   ]
  },
  {
   "cell_type": "markdown",
   "id": "f349bdb7",
   "metadata": {
    "id": "f349bdb7"
   },
   "source": [
    "\n",
    "Question 8: Write a Python program to capitalize the first letter of each word in a string.\n",
    "\n",
    "\n",
    "# Sample Input1\n",
    "\n",
    "input_string1 =\n",
    "     \"hello world\"\n",
    "\n",
    "# Sample Output\n",
    "\n",
    "output1 =\n",
    "\n",
    "      capitalize_words(input_string1)\n",
    "\n",
    "\n",
    "# Sample Input2\n",
    "\n",
    "input_string2 =\n",
    "\n",
    "       \"python programming is fun\"\n",
    "\n",
    "# Sample Output\n",
    "\n",
    "output2 =\n",
    "\n",
    "       capitalize_words(input_string2)\n",
    "\n"
   ]
  },
  {
   "cell_type": "code",
   "execution_count": 55,
   "id": "a1b4c4e6",
   "metadata": {
    "id": "a1b4c4e6"
   },
   "outputs": [
    {
     "name": "stdout",
     "output_type": "stream",
     "text": [
      "Python Programming Is Fun\n"
     ]
    }
   ],
   "source": [
    "# Please write The solution Here for above question 8:\n",
    "a = \"python programming is fun\"\n",
    "txt_a = a.title()\n",
    "print(txt_a) \n"
   ]
  },
  {
   "cell_type": "markdown",
   "id": "d2770696",
   "metadata": {
    "id": "d2770696"
   },
   "source": [
    "Question 9: Write a Python program to find the frequency of each character in a string.\n",
    "\n",
    "\n",
    "\n",
    "\n",
    "# Sample Input1\n",
    "\n",
    "input_string1 =\n",
    "\n",
    "         \"Hello, World!\"\n",
    "\n",
    "# Sample Output\n",
    "\n",
    "output1 =\n",
    "        character_frequency(input_string1)\n",
    "\n",
    "# Sample Input2\n",
    "\n",
    "input_string2 =\n",
    "\n",
    "        \"Python is great\"\n",
    "\n",
    "# Sample Output\n",
    "\n",
    "output2 =     \n",
    "\n",
    "      character_frequency(input_string2)\n"
   ]
  },
  {
   "cell_type": "code",
   "execution_count": 66,
   "id": "7fdc2e9c",
   "metadata": {
    "id": "7fdc2e9c"
   },
   "outputs": [
    {
     "name": "stdout",
     "output_type": "stream",
     "text": [
      "P: 1, y: 1, t: 2, h: 1, o: 1, n: 1,  : 2, i: 1, s: 1,  : 2, g: 1, r: 1, e: 1, a: 1, t: 2, "
     ]
    }
   ],
   "source": [
    "# Please write The solution Here for above question 9:\n",
    "a = \"Python is great\"\n",
    "\n",
    "for i in a:\n",
    "    fre = a.count(i)\n",
    "    print(str(i) + \": \" + str(fre), end=\", \")\n"
   ]
  },
  {
   "cell_type": "markdown",
   "id": "5c9a3f09",
   "metadata": {
    "id": "5c9a3f09"
   },
   "source": [
    "Question 10: write a python programme to find the sum of all the even characters\n",
    "\n",
    "\n",
    "# Sample Input1\n",
    "\n",
    "input_string1 =\n",
    "\n",
    "     \"Hello, World!\"\n",
    "\n",
    "# Sample Output\n",
    "\n",
    "output1 =\n",
    "\n",
    "     sum_of_even_characters(input_string1)\n",
    "\n",
    "# Sample Input2\n",
    "\n",
    "input_string2 =\n",
    "\n",
    "        \"Python is great\"\n",
    "\n",
    "# Sample Output\n",
    "\n",
    "output2 =\n",
    "\n",
    "        sum_of_even_characters(input_string2)\n"
   ]
  },
  {
   "cell_type": "code",
   "execution_count": 1,
   "id": "cab791ea-36f6-4317-9de5-37669d93ddfe",
   "metadata": {},
   "outputs": [
    {
     "name": "stdin",
     "output_type": "stream",
     "text": [
      " Please Enter the Maximum Value :  10\n"
     ]
    },
    {
     "name": "stdout",
     "output_type": "stream",
     "text": [
      "2\n",
      "4\n",
      "6\n",
      "8\n",
      "10\n",
      "The Sum of Even Numbers from 1 to N = 30\n"
     ]
    }
   ],
   "source": [
    "# Please write The solution Here for above question 10:\n",
    "maximum = int(input(\" Please Enter the Maximum Value : \"))\n",
    "total = 0\n",
    "number = 1\n",
    " \n",
    "while number <= maximum:\n",
    "    if(number % 2 == 0):\n",
    "        print(\"{0}\".format(number))\n",
    "        total = total + number\n",
    "    number = number + 1\n",
    "\n",
    "print(\"The Sum of Even Numbers from 1 to N = {0}\".format(total))"
   ]
  },
  {
   "cell_type": "code",
   "execution_count": null,
   "id": "b5a4ac09-6012-4929-af60-ef0e6866cf38",
   "metadata": {},
   "outputs": [],
   "source": []
  }
 ],
 "metadata": {
  "colab": {
   "provenance": []
  },
  "kernelspec": {
   "display_name": "Python 3 (ipykernel)",
   "language": "python",
   "name": "python3"
  },
  "language_info": {
   "codemirror_mode": {
    "name": "ipython",
    "version": 3
   },
   "file_extension": ".py",
   "mimetype": "text/x-python",
   "name": "python",
   "nbconvert_exporter": "python",
   "pygments_lexer": "ipython3",
   "version": "3.11.7"
  }
 },
 "nbformat": 4,
 "nbformat_minor": 5
}
